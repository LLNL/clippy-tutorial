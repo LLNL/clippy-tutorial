{
 "cells": [
  {
   "cell_type": "code",
   "execution_count": null,
   "id": "instant-cambodia",
   "metadata": {},
   "outputs": [],
   "source": [
    "from clippy import Clippy"
   ]
  },
  {
   "cell_type": "code",
   "execution_count": null,
   "id": "written-humor",
   "metadata": {},
   "outputs": [],
   "source": [
    "c = Clippy({'examples': '/tmp/clippy/clippy-cpp/build/examples'}, cmd_prefix='', loglevel=0)\n",
    "c.examples.howdy('World')"
   ]
  },
  {
   "cell_type": "code",
   "execution_count": null,
   "id": "worthy-proof",
   "metadata": {},
   "outputs": [],
   "source": [
    "c.examples.sum(1, 2)"
   ]
  },
  {
   "cell_type": "code",
   "execution_count": null,
   "id": "enabling-sister",
   "metadata": {},
   "outputs": [],
   "source": [
    "c.examples.sort_edges([(5,5),(3,5),(2,2),(0,0)])"
   ]
  },
  {
   "cell_type": "code",
   "execution_count": null,
   "id": "graphic-herald",
   "metadata": {},
   "outputs": [],
   "source": [
    "c.examples.sort_edges([(5,5),(3,5),(2,2),(0,0)], reverse=True)"
   ]
  },
  {
   "cell_type": "code",
   "execution_count": null,
   "id": "foster-congo",
   "metadata": {},
   "outputs": [],
   "source": [
    "c.examples.sort_strings(['zulu','yankee','whiskey','uniform','romeo','mike','kilo','foxtrot','delta','alfa'])"
   ]
  },
  {
   "cell_type": "code",
   "execution_count": null,
   "id": "representative-joshua",
   "metadata": {},
   "outputs": [],
   "source": [
    "c.examples.sort_strings(['zulu','yankee','whiskey','uniform','romeo','mike','kilo','foxtrot','delta','alfa'], reverse=True)"
   ]
  },
  {
   "cell_type": "code",
   "execution_count": null,
   "id": "ready-enemy",
   "metadata": {},
   "outputs": [],
   "source": [
    "c.examples.grumpy()"
   ]
  }
 ],
 "metadata": {
  "kernelspec": {
   "display_name": "Python 3",
   "language": "python",
   "name": "python3"
  },
  "language_info": {
   "codemirror_mode": {
    "name": "ipython",
    "version": 3
   },
   "file_extension": ".py",
   "mimetype": "text/x-python",
   "name": "python",
   "nbconvert_exporter": "python",
   "pygments_lexer": "ipython3",
   "version": "3.8.8"
  }
 },
 "nbformat": 4,
 "nbformat_minor": 5
}
