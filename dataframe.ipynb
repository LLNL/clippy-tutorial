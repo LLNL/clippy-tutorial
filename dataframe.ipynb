{
 "cells": [
  {
   "cell_type": "code",
   "execution_count": 1,
   "id": "formed-slovak",
   "metadata": {},
   "outputs": [
    {
     "name": "stdout",
     "output_type": "stream",
     "text": [
      "\n",
      " ╭────────────────────────────────────╮\n",
      " │ It looks like you want to use HPC. │\n",
      " │ Would you like help with that?     │\n",
      " ╰────────────────────────────────────╯\n",
      "  ╲\n",
      "   ╲\n",
      "    ╭──╮\n",
      "    ⊙ ⊙│╭\n",
      "    ││ ││\n",
      "    │╰─╯│\n",
      "    ╰───╯\n",
      "\n"
     ]
    }
   ],
   "source": [
    "from clippy import Clippy"
   ]
  },
  {
   "cell_type": "code",
   "execution_count": 2,
   "id": "tough-spanish",
   "metadata": {},
   "outputs": [],
   "source": [
    "c = Clippy({'dataframe': '/tmp/clippy/clippy-cpp/build/examples/dataframe'}, cmd_prefix='', loglevel=0)"
   ]
  },
  {
   "cell_type": "code",
   "execution_count": 3,
   "id": "induced-timeline",
   "metadata": {},
   "outputs": [
    {
     "data": {
      "text/plain": [
       "{'text': 'OK'}"
      ]
     },
     "execution_count": 3,
     "metadata": {},
     "output_type": "execute_result"
    }
   ],
   "source": [
    "c.dataframe.create('./tmp', 'CityClimate', columns=[[\"string\",\"Name\"], [\"real\",\"Jan\"], [\"real\",\"Apr\"], [\"real\",\"Jul\"], [\"real\",\"Oct\"], [\"real\",\"rain-in\"], [\"uint\",\"rain-days\"], [\"real\",\"snow-in\"], [\"string\",\"years-observed\"]])"
   ]
  },
  {
   "cell_type": "code",
   "execution_count": 6,
   "id": "sophisticated-relationship",
   "metadata": {},
   "outputs": [
    {
     "data": {
      "text/plain": [
       "{'text': 'OK', 'info': '100 records imported'}"
      ]
     },
     "execution_count": 6,
     "metadata": {},
     "output_type": "execute_result"
    }
   ],
   "source": [
    "c.dataframe.importCSV('./tmp', 'CityClimate', '/tmp/clippy/clippy-cpp/examples/dataframe/sample_data/city.csv')"
   ]
  },
  {
   "cell_type": "code",
   "execution_count": 8,
   "id": "collected-damages",
   "metadata": {},
   "outputs": [
    {
     "data": {
      "text/plain": [
       "{'data': [{'id': 0,\n",
       "   'Name': 'Albany (NY)',\n",
       "   'Jan': 22.2,\n",
       "   'Apr': 46.6,\n",
       "   'Jul': 71.1,\n",
       "   'Oct': 49.3,\n",
       "   'rain-in': 38.6,\n",
       "   'rain-days': 136,\n",
       "   'snow-in': 64.4,\n",
       "   'years-observed': '57'},\n",
       "  {'id': 1,\n",
       "   'Name': 'Albuquerque (NM)',\n",
       "   'Jan': 35.7,\n",
       "   'Apr': 55.6,\n",
       "   'Jul': 78.5,\n",
       "   'Oct': 57.3,\n",
       "   'rain-in': 9.47,\n",
       "   'rain-days': 60,\n",
       "   'snow-in': 11,\n",
       "   'years-observed': '64'},\n",
       "  {'id': 2,\n",
       "   'Name': 'Anchorage (AK)',\n",
       "   'Jan': 15.8,\n",
       "   'Apr': 36.3,\n",
       "   'Jul': 58.4,\n",
       "   'Oct': 34.1,\n",
       "   'rain-in': 16.08,\n",
       "   'rain-days': 115,\n",
       "   'snow-in': 70.8,\n",
       "   'years-observed': '39 / 60'},\n",
       "  {'id': 3,\n",
       "   'Name': 'Asheville (NC)',\n",
       "   'Jan': 35.8,\n",
       "   'Apr': 54.1,\n",
       "   'Jul': 73,\n",
       "   'Oct': 55.2,\n",
       "   'rain-in': 47.07,\n",
       "   'rain-days': 126,\n",
       "   'snow-in': 15.3,\n",
       "   'years-observed': '39'}]}"
      ]
     },
     "execution_count": 8,
     "metadata": {},
     "output_type": "execute_result"
    }
   ],
   "source": [
    "c.dataframe.rowquery('./tmp', 'CityClimate', rows = [0, 1, 2, 3])"
   ]
  },
  {
   "cell_type": "code",
   "execution_count": 9,
   "id": "behavioral-referral",
   "metadata": {},
   "outputs": [
    {
     "data": {
      "text/plain": [
       "{'id': 46, 'value': 223}"
      ]
     },
     "execution_count": 9,
     "metadata": {},
     "output_type": "execute_result"
    }
   ],
   "source": [
    "c.dataframe.datafind('./tmp', 'CityClimate', function='max', column='rain-days')"
   ]
  },
  {
   "cell_type": "code",
   "execution_count": 10,
   "id": "impressed-satin",
   "metadata": {},
   "outputs": [
    {
     "data": {
      "text/plain": [
       "{'data': [{'id': 46,\n",
       "   'Name': 'Juneau (AK)',\n",
       "   'Jan': 25.7,\n",
       "   'Apr': 40.8,\n",
       "   'Jul': 56.8,\n",
       "   'Oct': 42.3,\n",
       "   'rain-in': 58.33,\n",
       "   'rain-days': 223,\n",
       "   'snow-in': 97,\n",
       "   'years-observed': '59'}]}"
      ]
     },
     "execution_count": 10,
     "metadata": {},
     "output_type": "execute_result"
    }
   ],
   "source": [
    "c.dataframe.rowquery('./tmp', 'CityClimate', rows = [46])"
   ]
  },
  {
   "cell_type": "code",
   "execution_count": null,
   "id": "twenty-sapphire",
   "metadata": {},
   "outputs": [],
   "source": []
  }
 ],
 "metadata": {
  "kernelspec": {
   "display_name": "Python 3",
   "language": "python",
   "name": "python3"
  },
  "language_info": {
   "codemirror_mode": {
    "name": "ipython",
    "version": 3
   },
   "file_extension": ".py",
   "mimetype": "text/x-python",
   "name": "python",
   "nbconvert_exporter": "python",
   "pygments_lexer": "ipython3",
   "version": "3.8.8"
  }
 },
 "nbformat": 4,
 "nbformat_minor": 5
}
