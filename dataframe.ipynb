{
 "cells": [
  {
   "cell_type": "code",
   "execution_count": null,
   "id": "instant-cambodia",
   "metadata": {},
   "outputs": [],
   "source": [
    "from clippy import Clippy"
   ]
  },
  {
   "cell_type": "code",
   "execution_count": null,
   "id": "written-humor",
   "metadata": {},
   "outputs": [],
   "source": [
    "c = Clippy({'dataframe': '/tmp/clippy/clippy-cpp/build/examples/dataframe'}, cmd_prefix='', loglevel=0)"
   ]
  },
  {
   "cell_type": "code",
   "execution_count": null,
   "id": "worthy-proof",
   "metadata": {},
   "outputs": [],
   "source": [
    "c.examples.create('./tmp', 'CityClimate', columns=[["string","Name"], ["real","Jan"], ["real","Apr"], ["real","Jul"], ["real","Oct"], ["real","rain-in"], ["uint","rain-days"], ["real","snow-in"], ["string","years-observed"]])"
   ]
  },
  {
   "cell_type": "code",
   "execution_count": null,
   "id": "enabling-sister",
   "metadata": {},
   "outputs": [],
   "source": [
    "c.examples.importCSV('./tmp', 'CityClimate', '/tmp/clippy/clippy-cpp/build/examples/dataframe/sample_data/city.csv')"
   ]
  },
  {
   "cell_type": "code",
   "execution_count": null,
   "id": "graphic-herald",
   "metadata": {},
   "outputs": [],
   "source": [
    "c.examples.rowquery('./tmp', 'CityClimate', rows = [0, 1, 2, 3])"
   ]
  },
  {
   "cell_type": "code",
   "execution_count": null,
   "id": "L10",
   "metadata": {},
   "outputs": [],
   "source": [
    "c.examples.datafind('./tmp', 'CityClimate', function='max', column='rain-days')"
   ]
  },
  {
   "cell_type": "code",
   "execution_count": null,
   "id": "L20",
   "metadata": {},
   "outputs": [],
   "source": [
    "c.examples.rowquery('./tmp', 'CityClimate', rows = [46])"
   ]
  }
 ],
 "metadata": {
  "kernelspec": {
   "display_name": "Python 3",
   "language": "python",
   "name": "python3"
  },
  "language_info": {
   "codemirror_mode": {
    "name": "ipython",
    "version": 3
   },
   "file_extension": ".py",
   "mimetype": "text/x-python",
   "name": "python",
   "nbconvert_exporter": "python",
   "pygments_lexer": "ipython3",
   "version": "3.8.8"
  }
 },
 "nbformat": 4,
 "nbformat_minor": 5
}
