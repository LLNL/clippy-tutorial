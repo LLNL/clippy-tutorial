In [2]: c = Clippy({'examples': 'examples/dataframe'}, cmd_prefix='', loglevel=0)                               

c = Clippy({'dataframe': '/tmp/clippy/clippy-cpp/build/examples/dataframe'}, cmd_prefix='', loglevel=0)
   

In [3]: c.examples.create('./tmp', 'CityClimate', columns=[["string","Name"], ["real","Jan"], ["real","Apr"], ["real","Jul"], ["real","Oct"], ["real","rain-in"], ["uint","rain-days"], ["real","snow-in"], ["string","years-observed"]]);                                                         
{
  "text": "OK"
}



In [4]: c.examples.importCSV('./tmp', 'CityClimate', 'examples/dataframe/data/city.csv');                                                             
{
  "text": "OK",
  "info": "100 records imported"
}



In [5]: c.examples.rowquery('./tmp', 'CityClimate', rows = [0, 1, 2, 3]);                                                                             
{
 "data": [{ "id": 0, "Name": "Albany (NY)", "Jan": 22.2, "Apr": 46.6, "Jul": 71.1, "Oct": 49.3, "rain-in": 38.6, "rain-days": 136, "snow-in": 64.4, "years-observed": "57"},
  { "id": 1, "Name": "Albuquerque (NM)", "Jan": 35.7, "Apr": 55.6, "Jul": 78.5, "Oct": 57.3, "rain-in": 9.47, "rain-days": 60, "snow-in": 11, "years-observed": "64"},
  { "id": 2, "Name": "Anchorage (AK)", "Jan": 15.8, "Apr": 36.3, "Jul": 58.4, "Oct": 34.1, "rain-in": 16.08, "rain-days": 115, "snow-in": 70.8, "years-observed": "39 / 60"},
  { "id": 3, "Name": "Asheville (NC)", "Jan": 35.8, "Apr": 54.1, "Jul": 73, "Oct": 55.2, "rain-in": 47.07, "rain-days": 126, "snow-in": 15.3, "years-observed": "39"}
]}


In [6]: c.examples.datafind('./tmp', 'CityClimate', function='max', column='rain-days');                                                              
{ "id": 46, "value": 223}


In [7]: c.examples.rowquery('./tmp', 'CityClimate', rows = [46]);                                                                                     
{
 "data": [{ "id": 46, "Name": "Juneau (AK)", "Jan": 25.7, "Apr": 40.8, "Jul": 56.8, "Oct": 42.3, "rain-in": 58.33, "rain-days": 223, "snow-in": 97, "years-observed": "59"}
]}


{
 "cells": [
  {
   "cell_type": "code",
   "execution_count": null,
   "id": "instant-cambodia",
   "metadata": {},
   "outputs": [],
   "source": [
    "from clippy import Clippy"
   ]
  },
  {
   "cell_type": "code",
   "execution_count": null,
   "id": "written-humor",
   "metadata": {},
   "outputs": [],
   "source": [
    "c = Clippy({'dataframe': '/tmp/clippy/clippy-cpp/build/examples/dataframe'}, cmd_prefix='', loglevel=0)"
   ]
  },
  {
   "cell_type": "code",
   "execution_count": null,
   "id": "worthy-proof",
   "metadata": {},
   "outputs": [],
   "source": [
    "c.examples.create('./tmp', 'CityClimate', columns=[["string","Name"], ["real","Jan"], ["real","Apr"], ["real","Jul"], ["real","Oct"], ["real","rain-in"], ["uint","rain-days"], ["real","snow-in"], ["string","years-observed"]])"
   ]
  },
  {
   "cell_type": "code",
   "execution_count": null,
   "id": "enabling-sister",
   "metadata": {},
   "outputs": [],
   "source": [
    "c.examples.importCSV('./tmp', 'CityClimate', '/tmp/clippy/clippy-cpp/build/examples/dataframe/sample_data/city.csv')"
   ]
  },
  {
   "cell_type": "code",
   "execution_count": null,
   "id": "graphic-herald",
   "metadata": {},
   "outputs": [],
   "source": [
    "c.examples.rowquery('./tmp', 'CityClimate', rows = [0, 1, 2, 3])"
   ]
  },
  {
   "cell_type": "code",
   "execution_count": null,
   "id": "L10",
   "metadata": {},
   "outputs": [],
   "source": [
    "c.examples.datafind('./tmp', 'CityClimate', function='max', column='rain-days')"
   ]
  },
  {
   "cell_type": "code",
   "execution_count": null,
   "id": "L20",
   "metadata": {},
   "outputs": [],
   "source": [
    "c.examples.rowquery('./tmp', 'CityClimate', rows = [46])"
   ]
  }
 ],
 "metadata": {
  "kernelspec": {
   "display_name": "Python 3",
   "language": "python",
   "name": "python3"
  },
  "language_info": {
   "codemirror_mode": {
    "name": "ipython",
    "version": 3
   },
   "file_extension": ".py",
   "mimetype": "text/x-python",
   "name": "python",
   "nbconvert_exporter": "python",
   "pygments_lexer": "ipython3",
   "version": "3.8.8"
  }
 },
 "nbformat": 4,
 "nbformat_minor": 5
}
