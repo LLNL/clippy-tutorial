{
 "cells": [
  {
   "cell_type": "code",
   "execution_count": null,
   "id": "instant-cambodia",
   "metadata": {},
   "outputs": [],
   "source": [
    "from clippy import Clippy"
   ]
  },
  {
   "cell_type": "code",
   "execution_count": null,
   "id": "written-humor",
   "metadata": {},
   "outputs": [],
   "source": [
    "w = Clippy({'wordcounter': '/tmp/clippy/clippy-cpp/build/examples/wordcounter'}, cmd_prefix='', loglevel=0)"
   ]
  },
  {
   "cell_type": "code",
   "execution_count": null,
   "id": "worthy-proof",
   "metadata": {},
   "outputs": [],
   "source": [
    "w.wordcounter.count_words(path=\"/tmp/datastore\", words=['aa', 'bb', 'aa'])"
   ]
  },
  {
   "cell_type": "code",
   "execution_count": null,
   "id": "enabling-sister",
   "metadata": {},
   "outputs": [],
   "source": [
    "w.wordcounter.total_words(path=\"/tmp/datastore\")"
   ]
  },
  {
   "cell_type": "code",
   "execution_count": null,
   "id": "graphic-herald",
   "metadata": {},
   "outputs": [],
   "source": [
    "w.wordcounter.top_k_words(path=\"/tmp/datastore\", k=2)"
   ]
  }
 ],
 "metadata": {
  "kernelspec": {
   "display_name": "Python 3",
   "language": "python",
   "name": "python3"
  },
  "language_info": {
   "codemirror_mode": {
    "name": "ipython",
    "version": 3
   },
   "file_extension": ".py",
   "mimetype": "text/x-python",
   "name": "python",
   "nbconvert_exporter": "python",
   "pygments_lexer": "ipython3",
   "version": "3.8.8"
  }
 },
 "nbformat": 4,
 "nbformat_minor": 5
}
